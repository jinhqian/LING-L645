{
  "nbformat": 4,
  "nbformat_minor": 0,
  "metadata": {
    "colab": {
      "provenance": []
    },
    "kernelspec": {
      "name": "python3",
      "display_name": "Python 3"
    },
    "language_info": {
      "name": "python"
    }
  },
  "cells": [
    {
      "cell_type": "code",
      "execution_count": null,
      "metadata": {
        "colab": {
          "base_uri": "https://localhost:8080/",
          "height": 234
        },
        "id": "bWHAENDufLGu",
        "outputId": "3fcc940c-0f30-474c-a508-36648146621c"
      },
      "outputs": [
        {
          "output_type": "error",
          "ename": "NameError",
          "evalue": "ignored",
          "traceback": [
            "\u001b[0;31m---------------------------------------------------------------------------\u001b[0m",
            "\u001b[0;31mNameError\u001b[0m                                 Traceback (most recent call last)",
            "\u001b[0;32m<ipython-input-3-db3024361366>\u001b[0m in \u001b[0;36m<module>\u001b[0;34m\u001b[0m\n\u001b[1;32m      7\u001b[0m \u001b[0;31m###############################################################################\u001b[0m\u001b[0;34m\u001b[0m\u001b[0;34m\u001b[0m\u001b[0;34m\u001b[0m\u001b[0m\n\u001b[1;32m      8\u001b[0m \u001b[0;34m\u001b[0m\u001b[0m\n\u001b[0;32m----> 9\u001b[0;31m \u001b[0mblob\u001b[0m \u001b[0;34m=\u001b[0m \u001b[0mtorch\u001b[0m\u001b[0;34m.\u001b[0m\u001b[0mload\u001b[0m\u001b[0;34m(\u001b[0m\u001b[0;34m'model.lm'\u001b[0m\u001b[0;34m)\u001b[0m\u001b[0;34m\u001b[0m\u001b[0;34m\u001b[0m\u001b[0m\n\u001b[0m\u001b[1;32m     10\u001b[0m \u001b[0midx2word\u001b[0m \u001b[0;34m=\u001b[0m \u001b[0mblob\u001b[0m\u001b[0;34m[\u001b[0m\u001b[0;34m'vocab'\u001b[0m\u001b[0;34m]\u001b[0m\u001b[0;34m\u001b[0m\u001b[0;34m\u001b[0m\u001b[0m\n\u001b[1;32m     11\u001b[0m \u001b[0mword2idx\u001b[0m \u001b[0;34m=\u001b[0m \u001b[0;34m{\u001b[0m\u001b[0mk\u001b[0m\u001b[0;34m:\u001b[0m \u001b[0mv\u001b[0m \u001b[0;32mfor\u001b[0m \u001b[0mv\u001b[0m\u001b[0;34m,\u001b[0m \u001b[0mk\u001b[0m \u001b[0;32min\u001b[0m \u001b[0midx2word\u001b[0m\u001b[0;34m.\u001b[0m\u001b[0mitems\u001b[0m\u001b[0;34m(\u001b[0m\u001b[0;34m)\u001b[0m\u001b[0;34m}\u001b[0m\u001b[0;34m\u001b[0m\u001b[0;34m\u001b[0m\u001b[0m\n",
            "\u001b[0;31mNameError\u001b[0m: name 'torch' is not defined"
          ]
        }
      ],
      "source": [
        "import sys, re\n",
        "import numpy as np\n",
        "import math\n",
        "\n",
        "from model import *\n",
        "\n",
        "###############################################################################\n",
        "\n",
        "blob = torch.load('model.lm')\n",
        "idx2word = blob['vocab']\n",
        "word2idx = {k: v for v, k in idx2word.items()}\n",
        "vocabulary = set(idx2word.values())\n",
        "\n",
        "# model = BigramNNmodel(len(vocabulary), EMBEDDING_DIM, CONTEXT_SIZE, HIDDEN_DIM)\n",
        "model = TrigramNNmodel(len(vocabulary), EMBEDDING_DIM, CONTEXT_SIZE, HIDDEN_DIM)\n",
        "model.load_state_dict(blob['model'])\n",
        "\n",
        "###############################################################################\n",
        "\n",
        "BATCH_SIZE = 1\n",
        "\n",
        "line = sys.stdin.readline()\n",
        "while line:\n",
        "    tokens = preprocess(line)\n",
        "    \n",
        "    x_test = []\n",
        "    y_test = []\n",
        "    # for i in range(len(tokens) - 1): #!!!#\n",
        "    for i in range(len(tokens) - 2): #!!!#\n",
        "        # x_test.append([word2idx[tokens[i]]]) #!!!#\n",
        "        x_test.append([word2idx[tokens[i]], word2idx[tokens[i+1]]])  #!!!#\n",
        "        # y_test.append([word2idx[tokens[i+1]]]) #!!!#\n",
        "        y_test.append([word2idx[tokens[i+2]]]) #!!!#\n",
        "    \n",
        "    x_test = np.array(x_test)\n",
        "    y_test = np.array(y_test)\n",
        "    \n",
        "    test_set = np.concatenate((x_test, y_test), axis=1)\n",
        "    test_loader = DataLoader(test_set, batch_size=BATCH_SIZE)\n",
        "    \n",
        "    total_prob = 1.0\n",
        "    for i, data_tensor in enumerate(test_loader):\n",
        "        # context_tensor = data_tensor[:,0:1] #!!!#\n",
        "        context_tensor = data_tensor[:,0:2] #!!!#\n",
        "        # target_tensor = data_tensor[:,1] #!!!#\n",
        "        target_tensor = data_tensor[:,2] #!!!#\n",
        "        log_probs = model(context_tensor)\n",
        "        probs = torch.exp(log_probs)\n",
        "        predicted_label = int(torch.argmax(probs, dim=1)[0])\n",
        "    \n",
        "        true_label = y_test[i][0]\n",
        "        true_word = idx2word[true_label]\n",
        "    \n",
        "        prob_true = float(probs[0][true_label])\n",
        "        total_prob *= prob_true\n",
        "    \n",
        "    print('%.6f\\t%.6f\\t' % (total_prob, math.log(total_prob)), tokens)\n",
        "    \n",
        "    line = sys.stdin.readline()"
      ]
    }
  ]
}