{
  "nbformat": 4,
  "nbformat_minor": 0,
  "metadata": {
    "colab": {
      "provenance": [],
      "authorship_tag": "ABX9TyMD6Q59erOTy+Ea9o1ihIQz",
      "include_colab_link": true
    },
    "kernelspec": {
      "name": "python3",
      "display_name": "Python 3"
    },
    "language_info": {
      "name": "python"
    }
  },
  "cells": [
    {
      "cell_type": "markdown",
      "metadata": {
        "id": "view-in-github",
        "colab_type": "text"
      },
      "source": [
        "<a href=\"https://colab.research.google.com/github/jinhqian/LING-L645/blob/main/Practical2_Beamsearch/Beamsearch.ipynb\" target=\"_parent\"><img src=\"https://colab.research.google.com/assets/colab-badge.svg\" alt=\"Open In Colab\"/></a>"
      ]
    },
    {
      "cell_type": "code",
      "execution_count": 1,
      "metadata": {
        "colab": {
          "base_uri": "https://localhost:8080/"
        },
        "id": "RvPBym1RBFyd",
        "outputId": "7c007d44-8e9a-411d-8c1a-844440297213"
      },
      "outputs": [
        {
          "output_type": "stream",
          "name": "stdout",
          "text": [
            "0 [[4, 2, 4, 0, 4, 0, 4, 0, 4, 2], 6.931471805599453]\n",
            "1 [[4, 2, 4, 0, 4, 0, 4, 0, 4, 1], 7.154615356913663]\n",
            "2 [[4, 2, 4, 0, 4, 0, 4, 0, 3, 2], 7.154615356913663]\n"
          ]
        }
      ],
      "source": [
        "from math import log\n",
        "import numpy as np\n",
        "\n",
        "# beam search\n",
        "def beam_search_decoder(data, k):\n",
        "    sequences = [[list(), 0.0]]\n",
        "    # walk over each step in sequence\n",
        "\n",
        "    max_T, max_A = data.shape\n",
        "\n",
        "    # Loop over time\n",
        "    for t in range(max_T):\n",
        "        all_candidates = list()\n",
        "        # expand each current candidate\n",
        "        for i in range(len(sequences)):\n",
        "            seq, score = sequences[i]\n",
        "            # Loop over possible alphabet outputs\n",
        "            for c in range(max_A):\n",
        "                candidate = [seq + [c], score - log(data[t, c])]\n",
        "                all_candidates.append(candidate)\n",
        "        # order all candidates by score\n",
        "        ordered = sorted(all_candidates, key=lambda tup:tup[1])\n",
        "        # select k best\n",
        "        sequences = ordered[:k]\n",
        "    return sequences\n",
        "\n",
        "# define a sequence of 10 words (rows) over a vocab of 5 words (columns), \n",
        "# e.g.\n",
        "#      a  bites cat  dog  the\n",
        "# 1   0.1  0.2  0.3  0.4  0.5\n",
        "# 2   0.5  0.3  0.5  0.2  0.1\n",
        "# ...\n",
        "# 10  0.3  0.4  0.5  0.2  0.1 \n",
        "\n",
        "data = [[0.1, 0.2, 0.3, 0.4, 0.5],\n",
        "        [0.4, 0.3, 0.5, 0.2, 0.1],\n",
        "        [0.1, 0.2, 0.3, 0.4, 0.5],\n",
        "        [0.5, 0.4, 0.3, 0.2, 0.1],\n",
        "        [0.1, 0.2, 0.3, 0.4, 0.5],\n",
        "        [0.5, 0.4, 0.3, 0.2, 0.1],\n",
        "        [0.1, 0.2, 0.3, 0.4, 0.5],\n",
        "        [0.5, 0.4, 0.3, 0.2, 0.1],\n",
        "        [0.1, 0.2, 0.3, 0.4, 0.5],\n",
        "        [0.3, 0.4, 0.5, 0.2, 0.1]]\n",
        "\n",
        "data = np.array(data)\n",
        "\n",
        "beam_width = 3\n",
        "\n",
        "# decode sequence\n",
        "result = beam_search_decoder(data, beam_width)\n",
        "# print result\n",
        "for i, seq in enumerate(result):\n",
        "    print(i, seq)"
      ]
    },
    {
      "cell_type": "code",
      "source": [
        "# load output JSON file \n",
        "\n",
        "import json\n",
        "jsonfile = json.load(open('output.json'))\n",
        "logits = np.array(jsonfile['logits'])\n",
        "logits.shape"
      ],
      "metadata": {
        "id": "tnQfsXNuF8A-",
        "colab": {
          "base_uri": "https://localhost:8080/"
        },
        "outputId": "7504e47c-d53a-471f-f0b1-6ad09d361046"
      },
      "execution_count": 2,
      "outputs": [
        {
          "output_type": "execute_result",
          "data": {
            "text/plain": [
              "(107, 28)"
            ]
          },
          "metadata": {},
          "execution_count": 2
        }
      ]
    },
    {
      "cell_type": "code",
      "source": [
        "result = beam_search_decoder(logits, 10)\n",
        "# print(result)\n",
        "\n",
        "for i, seq in enumerate(result):\n",
        "    output = ' '\n",
        "    for character in seq[0]:\n",
        "        alphabet = jsonfile[\"alphabet\"][character]\n",
        "        # print(alphabet)\n",
        "        if alphabet != output[-1]:\n",
        "           output += alphabet\n",
        "    print(output)\n",
        "  "
      ],
      "metadata": {
        "id": "Kx9OudScHBln",
        "colab": {
          "base_uri": "https://localhost:8080/"
        },
        "outputId": "6a65a5ae-3bcb-48ae-f694-bda9f3dc1270"
      },
      "execution_count": 3,
      "outputs": [
        {
          "output_type": "stream",
          "name": "stdout",
          "text": [
            " we mustsois find a newose tholme in the stsar es\n",
            " we mustsois find a newos tholme in the stsar es\n",
            " we mustsois find a newose tholme in the stsar os\n",
            " we mustsois find a newose tholme in the stsares\n",
            " we mustsois find a newos tholme in the stsar os\n",
            " we mustsois find a newoe tholme in the stsar es\n",
            " we mustsois find a newos tholme in the stsares\n",
            " we mustsois find a newoes tholme in the stsar es\n",
            " we mustsois find a newose tholme in the stsaros\n",
            " we mustsois find a newoe tholme in the stsar os\n"
          ]
        }
      ]
    },
    {
      "cell_type": "code",
      "source": [
        "import seaborn as sns\n",
        "import matplotlib.pyplot as plt\n",
        "\n",
        "plt.figure(figsize=(20, 10))\n",
        "sns.heatmap(logits, annot=False, cbar=True, cmap=\"BuPu\")\n",
        "plt.xticks(np.arange(len(jsonfile['alphabet']))+0.5, jsonfile['alphabet'])\n",
        "plt.show()"
      ],
      "metadata": {
        "colab": {
          "base_uri": "https://localhost:8080/",
          "height": 594
        },
        "id": "f7bKesPxM0Qe",
        "outputId": "14fad652-3b61-45ef-9e8e-fac56382b5b8"
      },
      "execution_count": 5,
      "outputs": [
        {
          "output_type": "display_data",
          "data": {
            "text/plain": [
              "<Figure size 1440x720 with 2 Axes>"
            ],
            "image/png": "[encoded data removed]"
          },
          "metadata": {
            "needs_background": "light"
          }
        }
      ]
    }
  ]
}