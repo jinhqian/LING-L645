{
  "nbformat": 4,
  "nbformat_minor": 0,
  "metadata": {
    "colab": {
      "provenance": [],
      "authorship_tag": "ABX9TyPY2nkwGQ6LFEflc+aGtQgD",
      "include_colab_link": true
    },
    "kernelspec": {
      "name": "python3",
      "display_name": "Python 3"
    },
    "language_info": {
      "name": "python"
    }
  },
  "cells": [
    {
      "cell_type": "markdown",
      "metadata": {
        "id": "view-in-github",
        "colab_type": "text"
      },
      "source": [
        "<a href=\"https://colab.research.google.com/github/jinhqian/LING-L645/blob/main/spell%20checking/Spell_checking.ipynb\" target=\"_parent\"><img src=\"https://colab.research.google.com/assets/colab-badge.svg\" alt=\"Open In Colab\"/></a>"
      ]
    },
    {
      "cell_type": "code",
      "execution_count": 1,
      "metadata": {
        "id": "5o5DyGYS_tjY"
      },
      "outputs": [],
      "source": [
        "\"\"\"Spelling Corrector in Python 3; see http://norvig.com/spell-correct.html\n",
        "\n",
        "Copyright (c) 2007-2016 Peter Norvig\n",
        "MIT license: www.opensource.org/licenses/mit-license.php\n",
        "\"\"\"\n",
        "\n",
        "################ Spelling Corrector \n",
        "\n",
        "import re\n",
        "from collections import Counter\n",
        "\n",
        "def words(text): return re.findall(r'\\w+', text.lower())\n",
        "\n",
        "WORDS = Counter(words(open('big.txt').read()))\n",
        "\n",
        "def P(word, N=sum(WORDS.values())): \n",
        "    \"Probability of `word`.\"\n",
        "    return WORDS[word] / N\n",
        "\n",
        "def correction(word): \n",
        "    \"Most probable spelling correction for word.\"\n",
        "    return max(candidates(word), key=P)\n",
        "\n",
        "def candidates(word): \n",
        "    \"Generate possible spelling corrections for word.\"\n",
        "    return (known([word]) or known(edits1(word)) or known(edits2(word)) or [word])\n",
        "\n",
        "def known(words): \n",
        "    \"The subset of `words` that appear in the dictionary of WORDS.\"\n",
        "    return set(w for w in words if w in WORDS)\n",
        "\n",
        "def edits1(word):\n",
        "    \"All edits that are one edit away from `word`.\"\n",
        "    letters    = 'abcdefghijklmnopqrstuvwxyz'\n",
        "    splits     = [(word[:i], word[i:])    for i in range(len(word) + 1)]\n",
        "    deletes    = [L + R[1:]               for L, R in splits if R]\n",
        "    transposes = [L + R[1] + R[0] + R[2:] for L, R in splits if len(R)>1]\n",
        "    replaces   = [L + c + R[1:]           for L, R in splits if R for c in letters]\n",
        "    inserts    = [L + c + R               for L, R in splits for c in letters]\n",
        "    return set(deletes + transposes + replaces + inserts)\n",
        "\n",
        "def edits2(word): \n",
        "    \"All edits that are two edits away from `word`.\"\n",
        "    return (e2 for e1 in edits1(word) for e2 in edits1(e1))"
      ]
    },
    {
      "cell_type": "code",
      "source": [
        "correction('speling')"
      ],
      "metadata": {
        "id": "drtt1L8yAAK3",
        "colab": {
          "base_uri": "https://localhost:8080/",
          "height": 35
        },
        "outputId": "96426290-144d-4f98-ba1c-1ba733f342d8"
      },
      "execution_count": 2,
      "outputs": [
        {
          "output_type": "execute_result",
          "data": {
            "text/plain": [
              "'spelling'"
            ],
            "application/vnd.google.colaboratory.intrinsic+json": {
              "type": "string"
            }
          },
          "metadata": {},
          "execution_count": 2
        }
      ]
    },
    {
      "cell_type": "code",
      "source": [
        "print(len(WORDS))\n",
        "print(sum(WORDS.values()))\n",
        "print(WORDS.most_common(10))\n",
        "print(max(WORDS, key=P))\n",
        "print(P('the'))\n",
        "print(P('outrivaled'))\n",
        "print(P('unmentioned'))"
      ],
      "metadata": {
        "colab": {
          "base_uri": "https://localhost:8080/"
        },
        "id": "DEDeJ0rdVobi",
        "outputId": "21e9a156-16fd-4cc8-d4f4-76ca2756f8ab"
      },
      "execution_count": 3,
      "outputs": [
        {
          "output_type": "stream",
          "name": "stdout",
          "text": [
            "32198\n",
            "1115585\n",
            "[('the', 79809), ('of', 40024), ('and', 38312), ('to', 28765), ('in', 22023), ('a', 21124), ('that', 12512), ('he', 12401), ('was', 11410), ('it', 10681)]\n",
            "the\n",
            "0.07154004401278254\n",
            "8.963906829152417e-07\n",
            "0.0\n"
          ]
        }
      ]
    },
    {
      "cell_type": "code",
      "source": [
        "################ Test Code \n",
        "\n",
        "\n",
        "def unit_tests():\n",
        "    assert correction('speling') == 'spelling'              # insert\n",
        "    assert correction('korrectud') == 'corrected'           # replace 2\n",
        "    assert correction('bycycle') == 'bicycle'               # replace\n",
        "    assert correction('inconvient') == 'inconvenient'       # insert 2\n",
        "    assert correction('arrainged') == 'arranged'            # delete\n",
        "    assert correction('peotry') =='poetry'                  # transpose\n",
        "    assert correction('peotryy') =='poetry'                 # transpose + delete\n",
        "    assert correction('word') == 'word'                     # known\n",
        "    assert correction('quintessential') == 'quintessential' # unknown\n",
        "    assert words('This is a TEST.') == ['this', 'is', 'a', 'test']\n",
        "    assert Counter(words('This is a test. 123; A TEST this is.')) == (\n",
        "           Counter({'123': 1, 'a': 2, 'is': 2, 'test': 2, 'this': 2}))\n",
        "    assert len(WORDS) == 32198\n",
        "    assert sum(WORDS.values()) == 1115585\n",
        "    assert WORDS.most_common(10) == [\n",
        "     ('the', 79809),\n",
        "     ('of', 40024),\n",
        "     ('and', 38312),\n",
        "     ('to', 28765),\n",
        "     ('in', 22023),\n",
        "     ('a', 21124),\n",
        "     ('that', 12512),\n",
        "     ('he', 12401),\n",
        "     ('was', 11410),\n",
        "     ('it', 10681)]\n",
        "\n",
        "    assert WORDS['the'] == 79809\n",
        "    assert P('quintessential') == 0\n",
        "    assert 0.07 < P('the') < 0.08\n",
        "    return 'unit_tests pass'\n",
        "\n",
        "def spelltest(tests, verbose=False):\n",
        "    \"Run correction(wrong) on all (right, wrong) pairs; report results.\"\n",
        "    import time\n",
        "    start = time.process_time()\n",
        "    good, unknown = 0, 0\n",
        "    n = len(tests)\n",
        "    for right, wrong in tests:\n",
        "        w = correction(wrong)\n",
        "        good += (w == right)\n",
        "        if w != right:\n",
        "            unknown += (right not in WORDS)\n",
        "            if verbose:\n",
        "                print('correction({}) => {} ({}); expected {} ({})'\n",
        "                      .format(wrong, w, WORDS[w], right, WORDS[right]))\n",
        "    dt = time.process_time() - start\n",
        "    print('{:.0%} of {} correct ({:.0%} unknown) at {:.0f} words per second '\n",
        "          .format(good / n, n, unknown / n, n / dt))\n",
        "    \n",
        "def Testset(lines):\n",
        "    \"Parse 'right: wrong1 wrong2' lines into [('right', 'wrong1'), ('right', 'wrong2')] pairs.\"\n",
        "    return [(right, wrong)\n",
        "            for (right, wrongs) in (line.split(':') for line in lines)\n",
        "            for wrong in wrongs.split()]\n",
        "\n",
        "if __name__ == '__main__':\n",
        "    print(unit_tests())\n",
        "    spelltest(Testset(open('spell-testset1.txt')))\n",
        "    spelltest(Testset(open('spell-testset2.txt')))"
      ],
      "metadata": {
        "colab": {
          "base_uri": "https://localhost:8080/"
        },
        "id": "OSJ-n_qCQqnt",
        "outputId": "cef7e95a-4885-46da-8194-059c09502033"
      },
      "execution_count": 4,
      "outputs": [
        {
          "output_type": "stream",
          "name": "stdout",
          "text": [
            "unit_tests pass\n",
            "75% of 270 correct (6% unknown) at 37 words per second \n",
            "68% of 400 correct (11% unknown) at 32 words per second \n"
          ]
        }
      ]
    }
  ]
}